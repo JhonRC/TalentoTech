{
  "nbformat": 4,
  "nbformat_minor": 0,
  "metadata": {
    "colab": {
      "provenance": []
    },
    "kernelspec": {
      "name": "python3",
      "display_name": "Python 3"
    },
    "language_info": {
      "name": "python"
    }
  },
  "cells": [
    {
      "cell_type": "code",
      "execution_count": null,
      "metadata": {
        "id": "eN51pzetKUsj"
      },
      "outputs": [],
      "source": [
        "from shapely.geometry import Point, LineString, Polygon\n",
        "import matplotlib.pyplot as plt\n",
        "import numpy as np"
      ]
    },
    {
      "cell_type": "code",
      "source": [
        "# Linea de código para instalar librerias en Google Colab\n",
        "# !pip install shapely"
      ],
      "metadata": {
        "id": "8h0Tq2gkYte-"
      },
      "execution_count": null,
      "outputs": []
    },
    {
      "cell_type": "code",
      "source": [
        "# Dibujar lineas\n",
        "point1 = Point(0,0)\n",
        "point2 = Point(3,1)\n",
        "point3 = Point(0,3)\n",
        "\n",
        "line1 = LineString([point1, point2, point3])\n",
        "line1"
      ],
      "metadata": {
        "colab": {
          "base_uri": "https://localhost:8080/",
          "height": 121
        },
        "id": "0ItKWYQ7K1pg",
        "outputId": "70f5e487-8eb2-4f07-d02f-5686ee1a0083"
      },
      "execution_count": null,
      "outputs": [
        {
          "output_type": "execute_result",
          "data": {
            "text/plain": [
              "<LINESTRING (0 0, 3 1, 0 3)>"
            ],
            "image/svg+xml": "<svg xmlns=\"http://www.w3.org/2000/svg\" xmlns:xlink=\"http://www.w3.org/1999/xlink\" width=\"100.0\" height=\"100.0\" viewBox=\"-0.12 -0.12 3.24 3.24\" preserveAspectRatio=\"xMinYMin meet\"><g transform=\"matrix(1,0,0,-1,0,3.0)\"><polyline fill=\"none\" stroke=\"#66cc99\" stroke-width=\"0.06480000000000001\" points=\"0.0,0.0 3.0,1.0 0.0,3.0\" opacity=\"0.8\" /></g></svg>"
          },
          "metadata": {},
          "execution_count": 3
        }
      ]
    },
    {
      "cell_type": "code",
      "source": [
        "# Dibujar un poligono\n",
        "polygon = Polygon([[p.x, p.y] for p in [point1, point2, point3]])\n",
        "polygon"
      ],
      "metadata": {
        "colab": {
          "base_uri": "https://localhost:8080/",
          "height": 121
        },
        "id": "MC7MSO5cL_ra",
        "outputId": "af46505d-7e71-402c-a4d6-ee90471a70de"
      },
      "execution_count": null,
      "outputs": [
        {
          "output_type": "execute_result",
          "data": {
            "text/plain": [
              "<POLYGON ((0 0, 3 1, 0 3, 0 0))>"
            ],
            "image/svg+xml": "<svg xmlns=\"http://www.w3.org/2000/svg\" xmlns:xlink=\"http://www.w3.org/1999/xlink\" width=\"100.0\" height=\"100.0\" viewBox=\"-0.12 -0.12 3.24 3.24\" preserveAspectRatio=\"xMinYMin meet\"><g transform=\"matrix(1,0,0,-1,0,3.0)\"><path fill-rule=\"evenodd\" fill=\"#66cc99\" stroke=\"#555555\" stroke-width=\"0.06480000000000001\" opacity=\"0.6\" d=\"M 0.0,0.0 L 3.0,1.0 L 0.0,3.0 L 0.0,0.0 z\" /></g></svg>"
          },
          "metadata": {},
          "execution_count": 4
        }
      ]
    },
    {
      "cell_type": "code",
      "source": [
        "# Agregar agujeros a las figuras\n",
        "exterior = Polygon([(0, 0), (3, 1), (0, 3)])\n",
        "\n",
        "# Define el polígono del agujero\n",
        "hole = Polygon([(0, 1), (3, 1), (0, 1.5)])\n",
        "\n",
        "# Crea el polígono con el agujero\n",
        "polygon2 = Polygon(exterior.exterior, [hole.exterior])\n",
        "\n",
        "# Imprime el polígono resultante\n",
        "polygon2"
      ],
      "metadata": {
        "colab": {
          "base_uri": "https://localhost:8080/",
          "height": 121
        },
        "id": "KAG-Vo4LMavg",
        "outputId": "ec653650-35ef-4b8a-950e-693edbcea198"
      },
      "execution_count": null,
      "outputs": [
        {
          "output_type": "execute_result",
          "data": {
            "text/plain": [
              "<POLYGON ((0 0, 3 1, 0 3, 0 0), (0 1, 3 1, 0 1.5, 0 1))>"
            ],
            "image/svg+xml": "<svg xmlns=\"http://www.w3.org/2000/svg\" xmlns:xlink=\"http://www.w3.org/1999/xlink\" width=\"100.0\" height=\"100.0\" viewBox=\"-0.12 -0.12 3.24 3.24\" preserveAspectRatio=\"xMinYMin meet\"><g transform=\"matrix(1,0,0,-1,0,3.0)\"><path fill-rule=\"evenodd\" fill=\"#ff3333\" stroke=\"#555555\" stroke-width=\"0.06480000000000001\" opacity=\"0.6\" d=\"M 0.0,0.0 L 3.0,1.0 L 0.0,3.0 L 0.0,0.0 z M 0.0,1.0 L 3.0,1.0 L 0.0,1.5 L 0.0,1.0 z\" /></g></svg>"
          },
          "metadata": {},
          "execution_count": 5
        }
      ]
    },
    {
      "cell_type": "code",
      "source": [
        "# Ubicando la figura creada con Shapely en un plano con Matplotlib\n",
        "poligono = Polygon([(0, 0), (3, 1), (0, 3)])\n",
        "#hole = Polygon([(0, 1), (3, 1), (0, 1.5)])\n",
        "hole = Polygon([(0, 1.5), (3, 1), (0, 1)])\n",
        "\n",
        "# Crea el polígono con el agujero\n",
        "figura = poligono.difference(hole)\n",
        "fig, ax = plt.subplots()\n",
        "\n",
        "# Para cuando se genera un MultiPolygon Gráficar así\n",
        "for poly in figura.geoms:\n",
        "  x, y = poly.exterior.xy\n",
        "  ax.fill(x, y, color='#19be0d') # Admite colores en Hexadecimal\n",
        "\n",
        "plt.show()"
      ],
      "metadata": {
        "colab": {
          "base_uri": "https://localhost:8080/",
          "height": 430
        },
        "id": "gUBgzH_HVICI",
        "outputId": "90f1ac39-319e-413c-9036-a643e0a4c33d"
      },
      "execution_count": null,
      "outputs": [
        {
          "output_type": "display_data",
          "data": {
            "text/plain": [
              "<Figure size 640x480 with 1 Axes>"
            ],
            "image/png": "[encoded data removed]"
          },
          "metadata": {}
        }
      ]
    },
    {
      "cell_type": "code",
      "source": [
        "square_coords = [(0,0), (0,1), (1,1), (1,0), (0,0)]\n",
        "square = Polygon(square_coords)\n",
        "# Punto centro de circulo\n",
        "circle_center = Point(0.5, 0.5)\n",
        "# Radio del circulo\n",
        "circle_radius = 0.2\n",
        "\n",
        "# Coordenadas del cuadrado\n",
        "x, y = square.exterior.xy\n",
        "plt.plot(x, y)\n",
        "# Creación del circulo\n",
        "circle = circle_center.buffer(circle_radius)\n",
        "# Coordenadas del circulo\n",
        "x, y = circle.exterior.xy\n",
        "plt.plot(x, y)"
      ],
      "metadata": {
        "colab": {
          "base_uri": "https://localhost:8080/",
          "height": 447
        },
        "id": "41879w5wbpDE",
        "outputId": "6abce14a-715c-4a14-f001-83b0cc581711"
      },
      "execution_count": null,
      "outputs": [
        {
          "output_type": "execute_result",
          "data": {
            "text/plain": [
              "[<matplotlib.lines.Line2D at 0x7afa65b3c580>]"
            ]
          },
          "metadata": {},
          "execution_count": 54
        },
        {
          "output_type": "display_data",
          "data": {
            "text/plain": [
              "<Figure size 640x480 with 1 Axes>"
            ],
            "image/png": "[encoded data removed]"
          },
          "metadata": {}
        }
      ]
    },
    {
      "cell_type": "code",
      "source": [
        "square_coords = [(0,0), (0,1), (1,1), (1,0), (0,0)]\n",
        "square = Polygon(square_coords)\n",
        "circle_center = Point(0.5, 0.5)\n",
        "circle_radius = 0.2\n",
        "circle = circle_center.buffer(circle_radius)\n",
        "\n",
        "figura = square.difference(circle)\n",
        "\n",
        "x, y = figura.exterior.xy\n",
        "x_c, y_c = circle.exterior.xy\n",
        "\n",
        "fig, ax = plt.subplots()\n",
        "\n",
        "ax.fill(x, y, color='#19be0d')\n",
        "ax.fill(x_c, y_c, color='white')\n",
        "plt.show()"
      ],
      "metadata": {
        "colab": {
          "base_uri": "https://localhost:8080/",
          "height": 430
        },
        "id": "wblbcm-mqj1S",
        "outputId": "3829a0d7-507f-4929-e5b8-c1aa0177d942"
      },
      "execution_count": null,
      "outputs": [
        {
          "output_type": "display_data",
          "data": {
            "text/plain": [
              "<Figure size 640x480 with 1 Axes>"
            ],
            "image/png": "[encoded data removed]"
          },
          "metadata": {}
        }
      ]
    },
    {
      "cell_type": "markdown",
      "source": [
        "## Practicando la creación de figuras con Shapely para la actividad"
      ],
      "metadata": {
        "id": "ggF4PoXSNrYG"
      }
    },
    {
      "cell_type": "code",
      "source": [
        "exterior = Polygon([(0,0), (8,0), (8,8), (0,8)])\n",
        "hole = Polygon([(1,1), (7,1), (7,7), (1,7)])\n",
        "figura = exterior.difference(hole)\n",
        "figura"
      ],
      "metadata": {
        "colab": {
          "base_uri": "https://localhost:8080/",
          "height": 121
        },
        "id": "I_zmKuzIfKrD",
        "outputId": "59db3e16-2de9-4a4f-a781-ea3b2d6048e3"
      },
      "execution_count": null,
      "outputs": [
        {
          "output_type": "execute_result",
          "data": {
            "text/plain": [
              "<POLYGON ((0 8, 8 8, 8 0, 0 0, 0 8), (7 1, 7 7, 1 7, 1 1, 7 1))>"
            ],
            "image/svg+xml": "<svg xmlns=\"http://www.w3.org/2000/svg\" xmlns:xlink=\"http://www.w3.org/1999/xlink\" width=\"100.0\" height=\"100.0\" viewBox=\"-0.32 -0.32 8.64 8.64\" preserveAspectRatio=\"xMinYMin meet\"><g transform=\"matrix(1,0,0,-1,0,8.0)\"><path fill-rule=\"evenodd\" fill=\"#66cc99\" stroke=\"#555555\" stroke-width=\"0.1728\" opacity=\"0.6\" d=\"M 0.0,8.0 L 8.0,8.0 L 8.0,0.0 L 0.0,0.0 L 0.0,8.0 z M 7.0,1.0 L 7.0,7.0 L 1.0,7.0 L 1.0,1.0 L 7.0,1.0 z\" /></g></svg>"
          },
          "metadata": {},
          "execution_count": 7
        }
      ]
    },
    {
      "cell_type": "code",
      "source": [
        "exterior = Polygon([(0,0), (16,0), (16,8), (0,8)])\n",
        "hole = Polygon([(1,1), (7,1), (7,7), (1,7)])\n",
        "figura = Polygon(exterior.exterior, [hole.exterior]) # Forma 1 de crear agujeros en la figura\n",
        "figura"
      ],
      "metadata": {
        "colab": {
          "base_uri": "https://localhost:8080/",
          "height": 121
        },
        "id": "1qunP_ktki7Q",
        "outputId": "dbc73ec7-895a-485e-b804-4fcd96f59347"
      },
      "execution_count": null,
      "outputs": [
        {
          "output_type": "execute_result",
          "data": {
            "text/plain": [
              "<POLYGON ((0 0, 16 0, 16 8, 0 8, 0 0), (1 1, 7 1, 7 7, 1 7, 1 1))>"
            ],
            "image/svg+xml": "<svg xmlns=\"http://www.w3.org/2000/svg\" xmlns:xlink=\"http://www.w3.org/1999/xlink\" width=\"100.0\" height=\"100.0\" viewBox=\"-0.64 -0.64 17.28 9.280000000000001\" preserveAspectRatio=\"xMinYMin meet\"><g transform=\"matrix(1,0,0,-1,0,8.0)\"><path fill-rule=\"evenodd\" fill=\"#66cc99\" stroke=\"#555555\" stroke-width=\"0.3456\" opacity=\"0.6\" d=\"M 0.0,0.0 L 16.0,0.0 L 16.0,8.0 L 0.0,8.0 L 0.0,0.0 z M 1.0,1.0 L 7.0,1.0 L 7.0,7.0 L 1.0,7.0 L 1.0,1.0 z\" /></g></svg>"
          },
          "metadata": {},
          "execution_count": 9
        }
      ]
    },
    {
      "cell_type": "code",
      "source": [
        "exterior = Polygon([(0,0), (16,0), (16,8), (0,8)])\n",
        "hole = Polygon([(1,1), (7,1), (7,7), (1,7)])\n",
        "figura = exterior.difference(hole) # Forma 2 de crear agujeros en la figura\n",
        "figura"
      ],
      "metadata": {
        "colab": {
          "base_uri": "https://localhost:8080/",
          "height": 121
        },
        "id": "wn4BmZyikLAl",
        "outputId": "5c9a9b5f-be88-4b4f-e6ff-de06577b1fe0"
      },
      "execution_count": null,
      "outputs": [
        {
          "output_type": "execute_result",
          "data": {
            "text/plain": [
              "<POLYGON ((0 8, 16 8, 16 0, 0 0, 0 8), (7 1, 7 7, 1 7, 1 1, 7 1))>"
            ],
            "image/svg+xml": "<svg xmlns=\"http://www.w3.org/2000/svg\" xmlns:xlink=\"http://www.w3.org/1999/xlink\" width=\"100.0\" height=\"100.0\" viewBox=\"-0.64 -0.64 17.28 9.280000000000001\" preserveAspectRatio=\"xMinYMin meet\"><g transform=\"matrix(1,0,0,-1,0,8.0)\"><path fill-rule=\"evenodd\" fill=\"#66cc99\" stroke=\"#555555\" stroke-width=\"0.3456\" opacity=\"0.6\" d=\"M 0.0,8.0 L 16.0,8.0 L 16.0,0.0 L 0.0,0.0 L 0.0,8.0 z M 7.0,1.0 L 7.0,7.0 L 1.0,7.0 L 1.0,1.0 L 7.0,1.0 z\" /></g></svg>"
          },
          "metadata": {},
          "execution_count": 18
        }
      ]
    },
    {
      "cell_type": "markdown",
      "source": [
        "## Actividad de Shapely"
      ],
      "metadata": {
        "id": "NksHPdpROohQ"
      }
    },
    {
      "cell_type": "code",
      "source": [
        "exterior = Polygon([(0,0), (8,0), (8,8), (0,8)])\n",
        "hole = Polygon([(1,1), (7,1), (7,7), (1,7)])\n",
        "figura = exterior.difference(hole)\n",
        "\n",
        "#Extraer las coordenadas de la figura final\n",
        "xf, yf = figura.exterior.xy\n",
        "# Extraer las coordenadas del agujero\n",
        "xh, yh = hole.exterior.xy\n",
        "\n",
        "# Crea la figura y los ejes\n",
        "fig, ax = plt.subplots()\n",
        "\n",
        "ax.fill(xf, yf, color='#14710d')\n",
        "ax.fill(xh, yh, color='#fff')\n",
        "ax.grid(True)\n",
        "plt.title('Figura 1')\n",
        "plt.show()"
      ],
      "metadata": {
        "colab": {
          "base_uri": "https://localhost:8080/",
          "height": 452
        },
        "id": "EYhRsHwoKPBb",
        "outputId": "7d6af722-d2a1-4d69-f378-ee6b49a0b38d"
      },
      "execution_count": null,
      "outputs": [
        {
          "output_type": "display_data",
          "data": {
            "text/plain": [
              "<Figure size 640x480 with 1 Axes>"
            ],
            "image/png": "[encoded data removed]"
          },
          "metadata": {}
        }
      ]
    },
    {
      "cell_type": "code",
      "source": [
        "exterior = Polygon([(0,0), (16,0), (16,8), (0,8)])\n",
        "hole = Polygon([(1,1), (7,1), (7,7), (1,7)])\n",
        "figura = exterior.difference(hole)\n",
        "#figura.geom_type\n",
        "# Calcular el punto medio de la figura\n",
        "p_medio = exterior.centroid\n",
        "# Coordenadas para dibujar la linea central\n",
        "linea = LineString([(p_medio.x, 0), (p_medio.x, 8)])\n",
        "\n",
        "# Crea la figura y los ejes\n",
        "fig, ax = plt.subplots()\n",
        "\n",
        "ax.fill(*figura.exterior.xy, color='#19be0d')\n",
        "ax.fill(*hole.exterior.xy, color='#fff')\n",
        "ax.fill(*linea.xy, color='#14710d')\n",
        "# Configurar límites de los ejes\n",
        "ax.set_xlim(-1, 17)  # Establecer límites del eje X\n",
        "ax.set_ylim(-1, 9)   # Establecer límites del eje Y\n",
        "# Agregar etiquetas de los ejes\n",
        "ax.set_xlabel('Eje X')\n",
        "ax.set_ylabel('Eje Y')\n",
        "# Agregar cuadrícula\n",
        "#ax.grid(True)\n",
        "plt.title('Figura 2')\n",
        "plt.show()"
      ],
      "metadata": {
        "colab": {
          "base_uri": "https://localhost:8080/",
          "height": 472
        },
        "id": "dmjVGAg4SFym",
        "outputId": "aa1e50b6-c6d7-4df4-b73b-153cfce29261"
      },
      "execution_count": null,
      "outputs": [
        {
          "output_type": "display_data",
          "data": {
            "text/plain": [
              "<Figure size 640x480 with 1 Axes>"
            ],
            "image/png": "[encoded data removed]"
          },
          "metadata": {}
        }
      ]
    }
  ]
}